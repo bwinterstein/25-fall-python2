{
 "cells": [
  {
   "cell_type": "code",
   "execution_count": 1,
   "metadata": {},
   "outputs": [],
   "source": [
    "import time"
   ]
  },
  {
   "cell_type": "code",
   "execution_count": 2,
   "metadata": {},
   "outputs": [],
   "source": [
    "def pythagorean_triples_naive(n):\n",
    "    \"\"\"\n",
    "    Prints the Pythagorean triples such that a + b + c == n\n",
    "            :return: None.\n",
    "    \"\"\"\n",
    "    # GENERATE all candidate triples (a, b, c) with a triple for loop\n",
    "    for a in range(1, n):\n",
    "        for b in range(1, n):\n",
    "            for c in range(1, n):\n",
    "\n",
    "                # TEST whether the candidate triple is indeed a solution\n",
    "                if a + b + c == n and a**2 + b**2 == c**2:\n",
    "                    print(a, b, c)"
   ]
  },
  {
   "cell_type": "code",
   "execution_count": 3,
   "metadata": {},
   "outputs": [],
   "source": [
    "def pythagorean_triples(n):\n",
    "    \"\"\"\n",
    "    Prints the Pythagorean triples such that a + b + c == n\n",
    "    :return: None.\n",
    "    \"\"\"\n",
    "\n",
    "    # GENERATE all candidate a and b values, taking into consideration\n",
    "    # that addition is commutative.\n",
    "    for a in range(1, n):\n",
    "        for b in range(a, n): # ensures a <= b\n",
    "\n",
    "            # GENERATE the only possible value of c that corresponds to the\n",
    "            # current choices of a and b.\n",
    "            c = n - a - b\n",
    "\n",
    "            # TEST whether the candidate triple is indeed a solution\n",
    "            if a**2 + b**2 == c**2:\n",
    "                print(a, b, c)"
   ]
  },
  {
   "cell_type": "code",
   "execution_count": 4,
   "metadata": {},
   "outputs": [
    {
     "name": "stdout",
     "output_type": "stream",
     "text": [
      "Slow implementation:\n",
      "6.416672468185425\n"
     ]
    }
   ],
   "source": [
    "print(\"Slow implementation:\")\n",
    "\n",
    "start = time.time()\n",
    "pythagorean_triples_naive(1000)\n",
    "end = time.time()\n",
    "print(end - start)"
   ]
  },
  {
   "cell_type": "code",
   "execution_count": 5,
   "metadata": {},
   "outputs": [
    {
     "name": "stdout",
     "output_type": "stream",
     "text": [
      "Faster implementation:\n",
      "0.021757841110229492\n"
     ]
    }
   ],
   "source": [
    "print(\"Faster implementation:\")\n",
    "\n",
    "start = time.time()\n",
    "pythagorean_triples(10000)\n",
    "end = time.time()\n",
    "print(end - start)"
   ]
  },
  {
   "cell_type": "code",
   "execution_count": null,
   "metadata": {},
   "outputs": [],
   "source": []
  }
 ],
 "metadata": {
  "kernelspec": {
   "display_name": "Python 3 (ipykernel)",
   "language": "python",
   "name": "python3"
  },
  "language_info": {
   "codemirror_mode": {
    "name": "ipython",
    "version": 3
   },
   "file_extension": ".py",
   "mimetype": "text/x-python",
   "name": "python",
   "nbconvert_exporter": "python",
   "pygments_lexer": "ipython3",
   "version": "3.12.1"
  }
 },
 "nbformat": 4,
 "nbformat_minor": 2
}
