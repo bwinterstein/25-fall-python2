{
 "cells": [
  {
   "cell_type": "code",
   "execution_count": null,
   "id": "24b9cbf1",
   "metadata": {},
   "outputs": [],
   "source": [
    "def histogram(string_list):\n",
    "    dict1 = {}\n",
    "    for word in string_list:\n",
    "        if word in dict1:\n",
    "            dict1[word] += 1  \n",
    "        else:\n",
    "            dict1[word] = 1    \n",
    "    return dict1"
   ]
  },
  {
   "cell_type": "code",
   "execution_count": 21,
   "id": "4c6fa11f",
   "metadata": {},
   "outputs": [
    {
     "data": {
      "text/plain": [
       "{'word': 3, 'text': 1, 'string': 1}"
      ]
     },
     "execution_count": 21,
     "metadata": {},
     "output_type": "execute_result"
    }
   ],
   "source": [
    "histogram(['word', 'text', 'word', 'word', 'string'])"
   ]
  },
  {
   "cell_type": "code",
   "execution_count": 28,
   "id": "40167e0e",
   "metadata": {},
   "outputs": [],
   "source": [
    "def reverse_tuple(tuple_set1, tuple_set2):\n",
    "    for pair in tuple_set1:\n",
    "        reverse_pair = (pair[1],pair[0])\n",
    "        if reverse_pair in tuple_set2:\n",
    "            return True\n",
    "        return False\n",
    "\n",
    "        "
   ]
  },
  {
   "cell_type": "code",
   "execution_count": 27,
   "id": "195401bf",
   "metadata": {},
   "outputs": [
    {
     "name": "stdout",
     "output_type": "stream",
     "text": [
      "True\n",
      "False\n"
     ]
    }
   ],
   "source": [
    "print(reverse_tuple({(1,2),(3,4)},{(2,1),(5,6)}))\n",
    "print(reverse_tuple({(1, 2), (3, 4)}, {(1, 2), (2, 3)}))"
   ]
  },
  {
   "cell_type": "code",
   "execution_count": null,
   "id": "45de943a",
   "metadata": {},
   "outputs": [],
   "source": []
  }
 ],
 "metadata": {
  "kernelspec": {
   "display_name": "Python 3",
   "language": "python",
   "name": "python3"
  },
  "language_info": {
   "codemirror_mode": {
    "name": "ipython",
    "version": 3
   },
   "file_extension": ".py",
   "mimetype": "text/x-python",
   "name": "python",
   "nbconvert_exporter": "python",
   "pygments_lexer": "ipython3",
   "version": "3.12.1"
  }
 },
 "nbformat": 4,
 "nbformat_minor": 5
}
