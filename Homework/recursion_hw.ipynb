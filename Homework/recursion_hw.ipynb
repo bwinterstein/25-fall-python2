{
 "cells": [
  {
   "cell_type": "code",
   "execution_count": null,
   "id": "0",
   "metadata": {},
   "outputs": [],
   "source": [
    "memo_cb = {}\n",
    "\n",
    "def colored_blocks(n):\n",
    "    if n in memo_cb:\n",
    "        return memo_cb[n]\n",
    "    if n == 0:\n",
    "        return 1\n",
    "    total = colored_blocks(n - 1)\n",
    "    if n >= 2:\n",
    "        total += colored_blocks(n - 2)\n",
    "    if n >= 3:\n",
    "        total += colored_blocks(n - 3)\n",
    "    if n >= 4:\n",
    "        total += colored_blocks(n - 4)\n",
    "    memo_cb[n] = total\n",
    "    return total\n"
   ]
  },
  {
   "cell_type": "code",
   "execution_count": null,
   "id": "1",
   "metadata": {},
   "outputs": [],
   "source": [
    "memo_stirling = {}\n",
    "\n",
    "def stirling2(n, k):\n",
    "    if (n, k) in memo_stirling:\n",
    "        return memo_stirling[(n, k)]\n",
    "\n",
    "    if not memo_stirling:\n",
    "        for i in range(1, n + 1):\n",
    "            memo_stirling[(i, 1)] = 1\n",
    "            memo_stirling[(i, i)] = 1\n",
    "\n",
    "    if (n, k) in memo_stirling:\n",
    "        return memo_stirling[(n, k)]\n",
    "\n",
    "    value = stirling2(n - 1, k - 1) + k * stirling2(n - 1, k)\n",
    "    memo_stirling[(n, k)] = value\n",
    "    return value"
   ]
  },
  {
   "cell_type": "code",
   "execution_count": null,
   "id": "2",
   "metadata": {},
   "outputs": [],
   "source": [
    "colored_blocks(50)"
   ]
  },
  {
   "cell_type": "code",
   "execution_count": null,
   "id": "3",
   "metadata": {},
   "outputs": [],
   "source": [
    "stirling2(10,5)"
   ]
  }
 ],
 "metadata": {
  "kernelspec": {
   "display_name": "Python 3",
   "language": "python",
   "name": "python3"
  },
  "language_info": {
   "codemirror_mode": {
    "name": "ipython",
    "version": 3
   },
   "file_extension": ".py",
   "mimetype": "text/x-python",
   "name": "python",
   "nbconvert_exporter": "python",
   "pygments_lexer": "ipython3",
   "version": "3.12.1"
  }
 },
 "nbformat": 4,
 "nbformat_minor": 5
}
