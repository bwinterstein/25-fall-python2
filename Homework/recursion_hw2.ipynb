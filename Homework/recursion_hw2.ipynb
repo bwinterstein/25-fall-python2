{
 "cells": [
  {
   "cell_type": "markdown",
   "id": "0",
   "metadata": {},
   "source": [
    "FUNCTION selection_sort(list of integers)\n",
    "    COPY users input\n",
    "    START by identifying largest number\n",
    "    REMOVE largest number\n",
    "    CAll selection_sort again on just what is left\n",
    "    CONCATENATE sorted portion on the left and single largest element on the right\n",
    "\n"
   ]
  },
  {
   "cell_type": "code",
   "execution_count": null,
   "id": "1",
   "metadata": {},
   "outputs": [],
   "source": [
    "def selection_recursive(numbers):\n",
    "    list_copy = numbers.copy()\n",
    "\n",
    "    if len(list_copy) <= 1:\n",
    "        return list_copy\n",
    "    \n",
    "    largest_index = 0\n",
    "    for num in range(1, len(list_copy)):\n",
    "        if list_copy[num] > list_copy[largest_index]:\n",
    "            largest_index = num\n",
    "\n",
    "    largest = list_copy[largest_index]\n",
    "    list_copy.pop(largest_index)\n",
    "\n",
    "    sort_rest = selection_recursive(list_copy)\n",
    "\n",
    "    return sort_rest + [largest]\n",
    "\n",
    "    "
   ]
  },
  {
   "cell_type": "code",
   "execution_count": null,
   "id": "2",
   "metadata": {},
   "outputs": [],
   "source": [
    "selection_recursive([6,5,5,7,4,8,3,5,1,2,9])"
   ]
  },
  {
   "cell_type": "code",
   "execution_count": null,
   "id": "3",
   "metadata": {},
   "outputs": [],
   "source": [
    "def mergesort(numbers):\n",
    "    list_copy = numbers.copy()\n",
    "    if len(list_copy) <= 1:\n",
    "        return list_copy\n",
    "    \n",
    "    middle = len(list_copy) // 2\n",
    "    left = list_copy[:middle]\n",
    "    right = list_copy[middle:]\n",
    "\n",
    "    left_sorted = mergesort(left)\n",
    "    right_sorted = mergesort(right)\n",
    "\n",
    "    return merge(left_sorted,right_sorted)\n",
    "\n",
    "def merge(left,right):\n",
    "    merged = []\n",
    "    i = 0\n",
    "    j = 0\n",
    "\n",
    "    while i < len(left) and j < len(right):\n",
    "        if left[i] <= right[j]:\n",
    "            merged.append(left[i])\n",
    "            i += 1\n",
    "        else:\n",
    "            merged.append(right[j])\n",
    "            j += 1\n",
    "\n",
    "    return merged\n"
   ]
  },
  {
   "cell_type": "code",
   "execution_count": null,
   "id": "4",
   "metadata": {},
   "outputs": [],
   "source": [
    "mergesort([6,5,5,7,4,8,3,5,1,2,9])"
   ]
  },
  {
   "cell_type": "code",
   "execution_count": null,
   "id": "5",
   "metadata": {},
   "outputs": [],
   "source": []
  }
 ],
 "metadata": {
  "kernelspec": {
   "display_name": "Python 3",
   "language": "python",
   "name": "python3"
  },
  "language_info": {
   "codemirror_mode": {
    "name": "ipython",
    "version": 3
   },
   "file_extension": ".py",
   "mimetype": "text/x-python",
   "name": "python",
   "nbconvert_exporter": "python",
   "pygments_lexer": "ipython3",
   "version": "3.12.1"
  }
 },
 "nbformat": 4,
 "nbformat_minor": 5
}
