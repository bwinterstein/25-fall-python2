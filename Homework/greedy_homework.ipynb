{
 "cells": [
  {
   "cell_type": "markdown",
   "id": "0",
   "metadata": {},
   "source": [
    "FUNCTION find_overlap(string1, string2)\n",
    "    START with the biggest possible overlap\n",
    "    CHECK if end of string1 matches start of string2\n",
    "    IF it matches, RETURN overlap length\n",
    "    IF nothing matches, RETURN 0\n",
    "\n",
    "FUNCTION combine_strings(string1, string2, overlap_length)\n",
    "    ADD string2 without the overlapping part to string1\n",
    "    RETURN new string\n",
    "\n",
    "FUNCTION shortest_superstring(strings_set)\n",
    "    CHANGE the set of strings into a list\n",
    "\n",
    "    WHILE there is more than one string in the list\n",
    "        LOOK at every pair of strings\n",
    "        FIND the pair with the biggest overlap\n",
    "        MERGE that pair into one string\n",
    "        REMOVE the two old strings from the list\n",
    "        ADD the new merged string to the list\n",
    "\n",
    "    RETURN the final string\n"
   ]
  },
  {
   "cell_type": "code",
   "execution_count": null,
   "id": "1",
   "metadata": {},
   "outputs": [],
   "source": [
    "def overlap(string1, string2):\n",
    "    max_len = min(len(string1), len(string2))\n",
    "    for length in range(max_len, 0, -1):\n",
    "        if string1[-length:] == string2[:length]:\n",
    "            return length\n",
    "    return 0\n",
    "\n",
    "def merge_strings(string1, string2, overlap_length):\n",
    "    return string1 + string2[overlap_length:]"
   ]
  },
  {
   "cell_type": "code",
   "execution_count": null,
   "id": "2",
   "metadata": {},
   "outputs": [],
   "source": [
    "def shortest_superstring(strings_set):\n",
    "    strings = list(strings_set)\n",
    "\n",
    "    while len(strings) > 1:\n",
    "        max_overlap = -1\n",
    "        best_i = 0\n",
    "        best_j = 0\n",
    "        best_merged = \"\"\n",
    "\n",
    "        for i in range(len(strings)):\n",
    "            for j in range(len(strings)):\n",
    "                if i != j:\n",
    "                    ov = overlap(strings[i], strings[j])\n",
    "                    if ov > max_overlap:\n",
    "                        max_overlap = ov\n",
    "                        best_i = i\n",
    "                        best_j = j\n",
    "                        best_merged = merge_strings(strings[i], strings[j], ov)\n",
    "\n",
    "        new_strings = []\n",
    "        for k in range(len(strings)):\n",
    "            if k != best_i and k != best_j:\n",
    "                new_strings.append(strings[k])\n",
    "\n",
    "        new_strings.append(best_merged)\n",
    "        strings = new_strings\n",
    "\n",
    "    return strings[0]\n"
   ]
  },
  {
   "cell_type": "code",
   "execution_count": null,
   "id": "3",
   "metadata": {},
   "outputs": [],
   "source": [
    "shortest_superstring({'ABCDEF', 'BCDEFX', 'XCDEFY', 'DEFYZ'})"
   ]
  },
  {
   "cell_type": "code",
   "execution_count": null,
   "id": "4",
   "metadata": {},
   "outputs": [],
   "source": [
    "shortest_superstring({'UV', 'VW', 'XY', 'YZ'})"
   ]
  },
  {
   "cell_type": "code",
   "execution_count": null,
   "id": "5",
   "metadata": {},
   "outputs": [],
   "source": []
  }
 ],
 "metadata": {
  "kernelspec": {
   "display_name": "Python 3",
   "language": "python",
   "name": "python3"
  },
  "language_info": {
   "codemirror_mode": {
    "name": "ipython",
    "version": 3
   },
   "file_extension": ".py",
   "mimetype": "text/x-python",
   "name": "python",
   "nbconvert_exporter": "python",
   "pygments_lexer": "ipython3",
   "version": "3.12.1"
  }
 },
 "nbformat": 4,
 "nbformat_minor": 5
}
