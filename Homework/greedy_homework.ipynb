{
 "cells": [
  {
   "cell_type": "markdown",
   "id": "5e0b7037",
   "metadata": {},
   "source": [
    "INPUT set of strings\n",
    "OUTPUT superstring containing all strings, gene"
   ]
  }
 ],
 "metadata": {
  "language_info": {
   "name": "python"
  }
 },
 "nbformat": 4,
 "nbformat_minor": 5
}
