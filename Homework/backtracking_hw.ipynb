{
 "cells": [
  {
   "cell_type": "markdown",
   "id": "0",
   "metadata": {},
   "source": [
    "CREATE global list\n",
    "FUNCTION generate_tilings(partial_tiling,length)\n",
    "    TOTAL equals the sum of partial_tiling\n",
    "    IF total equals length\n",
    "        write partial_tiling to global list\n",
    "    ELIF total less than length\n",
    "        CALL generate_tilings"
   ]
  },
  {
   "cell_type": "code",
   "execution_count": null,
   "id": "1",
   "metadata": {},
   "outputs": [],
   "source": [
    "all_tilings = []\n",
    "\n",
    "def generate_tilings(partial_tiling, length):\n",
    "    total = sum(partial_tiling)\n",
    "\n",
    "    if total == length:\n",
    "        all_tilings.append(partial_tiling[:])\n",
    "    \n",
    "    elif total < length:\n",
    "        for tile in [1,2,3,4]:\n",
    "            generate_tilings(partial_tiling + [tile], length)\n",
    "            "
   ]
  },
  {
   "cell_type": "code",
   "execution_count": null,
   "id": "2",
   "metadata": {},
   "outputs": [],
   "source": [
    "generate_tilings([],4)\n",
    "print(all_tilings)"
   ]
  },
  {
   "cell_type": "markdown",
   "id": "3",
   "metadata": {},
   "source": [
    "CREATE global list\n",
    "FUNCTION subset_sum(partial_sum, remaining_ints, target)\n",
    "    TOTAL equals the sum of partial_sum\n",
    "    IF total equals target\n",
    "        APPEND partial_sum to global list\n",
    "        RETURN nothing to end this call\n",
    "    ELIF total is less than target\n",
    "        FOR each index in the range of remaining_ints\n",
    "            CREATE next_int, set equal to remaining_ints[index]\n",
    "            CREATE next_remaining,set equal to remaining_ints[index + 1]\n",
    "            CALL subset_sum with partial_sum + next_int, next_remaining, and target\n",
    "    ELSE\n",
    "        return nothing \n",
    "        "
   ]
  },
  {
   "cell_type": "code",
   "execution_count": null,
   "id": "4",
   "metadata": {},
   "outputs": [],
   "source": [
    "all_subsets = []\n",
    "\n",
    "def subset_sum(partial_sum, remaining_ints, target):\n",
    "    total = sum(partial_sum)\n",
    "\n",
    "    if total == target:\n",
    "        all_subsets.append(partial_sum[:])\n",
    "        return\n",
    "    \n",
    "    elif total < target:\n",
    "        for i in range(len(remaining_ints)):\n",
    "            next_int = remaining_ints[i]\n",
    "            next_remaining = remaining_ints[i+1:]\n",
    "            subset_sum(partial_sum + [next_int],next_remaining, target)\n",
    "    else:\n",
    "        return\n"
   ]
  },
  {
   "cell_type": "code",
   "execution_count": null,
   "id": "5",
   "metadata": {},
   "outputs": [],
   "source": [
    "subset_sum([],[1,2,3,4,5,6,7],6)\n",
    "print(all_subsets)"
   ]
  }
 ],
 "metadata": {
  "kernelspec": {
   "display_name": "Python 3",
   "language": "python",
   "name": "python3"
  },
  "language_info": {
   "codemirror_mode": {
    "name": "ipython",
    "version": 3
   },
   "file_extension": ".py",
   "mimetype": "text/x-python",
   "name": "python",
   "nbconvert_exporter": "python",
   "pygments_lexer": "ipython3",
   "version": "3.12.1"
  }
 },
 "nbformat": 4,
 "nbformat_minor": 5
}
