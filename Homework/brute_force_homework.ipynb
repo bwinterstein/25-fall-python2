{
 "cells": [
  {
   "cell_type": "markdown",
   "id": "b00c04b6",
   "metadata": {},
   "source": [
    "FUNCTION is_palindrome(num)\n",
    "    RETURN True if num reads same forward and backward\n",
    "\n",
    "FUNCTION palindromic_product(n)\n",
    "    SET start and end range for n-digit numbers\n",
    "    SET largest_palindrome = 0\n",
    "    FOR each i in range\n",
    "        FOR each j in range (starting from i)\n",
    "            IF i * j is palindrome AND larger than current largest\n",
    "                UPDATE largest_palindrome\n",
    "    RETURN largest_palindrome\n",
    "\n",
    "FUNCTION primes_list(n)\n",
    "    SET empty list primes\n",
    "    FOR each number from 2 to n\n",
    "        CHECK if divisible by any smaller prime\n",
    "        IF not divisible\n",
    "            ADD number to primes\n",
    "    RETURN primes\n"
   ]
  },
  {
   "cell_type": "markdown",
   "id": "e5cad2bd",
   "metadata": {},
   "source": []
  },
  {
   "cell_type": "code",
   "execution_count": 1,
   "id": "e9614e46",
   "metadata": {},
   "outputs": [],
   "source": [
    "def is_palindrome(num):\n",
    "    return str(num) == str(num)[::-1]\n",
    "\n",
    "\n",
    "def palindromic_product(n):\n",
    "    start = 10 ** (n - 1)\n",
    "    end = 10 ** n\n",
    "    largest_palindrome = 0\n",
    "\n",
    "    for i in range(end - 1, start - 1, -1):\n",
    "        for j in range(i, start - 1, -1):\n",
    "            product = i * j\n",
    "            if is_palindrome(product) and product > largest_palindrome:\n",
    "                largest_palindrome = product\n",
    "\n",
    "    return largest_palindrome"
   ]
  },
  {
   "cell_type": "code",
   "execution_count": 2,
   "id": "69488a34",
   "metadata": {},
   "outputs": [],
   "source": [
    "def primes_list(n):\n",
    "    primes = []\n",
    "    for num in range(2, n + 1):\n",
    "        is_prime = True\n",
    "        for p in primes:\n",
    "            if p * p > num:\n",
    "                break\n",
    "            if num % p == 0:\n",
    "                is_prime = False\n",
    "                break\n",
    "        if is_prime:\n",
    "            primes.append(num)\n",
    "    return primes"
   ]
  },
  {
   "cell_type": "code",
   "execution_count": 3,
   "id": "90acb1eb",
   "metadata": {},
   "outputs": [
    {
     "name": "stdout",
     "output_type": "stream",
     "text": [
      "906609\n",
      "[2, 3, 5, 7, 11, 13, 17, 19]\n"
     ]
    }
   ],
   "source": [
    "print(palindromic_product(3))\n",
    "print(primes_list(19))"
   ]
  },
  {
   "cell_type": "code",
   "execution_count": null,
   "id": "8f75f4ad",
   "metadata": {},
   "outputs": [],
   "source": []
  }
 ],
 "metadata": {
  "kernelspec": {
   "display_name": "Python 3 (ipykernel)",
   "language": "python",
   "name": "python3"
  }
 },
 "nbformat": 4,
 "nbformat_minor": 5
}
