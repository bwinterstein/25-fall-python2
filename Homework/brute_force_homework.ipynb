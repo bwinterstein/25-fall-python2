{
 "cells": [
  {
   "cell_type": "markdown",
   "id": "b00c04b6",
   "metadata": {},
   "source": [
    "INPUT integer n\n",
    "OUTPUT largest palindromic product of two digit numbers"
   ]
  }
 ],
 "metadata": {
  "language_info": {
   "name": "python"
  }
 },
 "nbformat": 4,
 "nbformat_minor": 5
}
