{
 "cells": [
  {
   "cell_type": "code",
   "execution_count": 1,
   "id": "d2be0c37",
   "metadata": {},
   "outputs": [],
   "source": [
    "def improved_bubble_sort(arr, asc=True):\n",
    "    length = len(arr)\n",
    "    for iteration in range(length - 1):\n",
    "        swapped = False\n",
    "        for loc in range(length - 1 - iteration):\n",
    "            if asc:\n",
    "                if arr[loc] > arr[loc + 1]:\n",
    "                    arr[loc], arr[loc + 1] = arr[loc + 1], arr[loc]\n",
    "                    swapped = True\n",
    "            else:\n",
    "                if arr[loc] < arr[loc + 1]:\n",
    "                    arr[loc], arr[loc + 1] = arr[loc + 1], arr[loc]\n",
    "                    swapped = True\n",
    "        if not swapped:\n",
    "            break"
   ]
  },
  {
   "cell_type": "code",
   "execution_count": 2,
   "id": "e2f07a4d",
   "metadata": {},
   "outputs": [],
   "source": [
    "def insertion_sort(arr, asc=True):\n",
    "    for i in range(1, len(arr)):\n",
    "        key = arr[i]\n",
    "        j = i - 1\n",
    "        if asc:\n",
    "            while j >= 0 and arr[j] > key:\n",
    "                arr[j + 1] = arr[j]\n",
    "                j -= 1\n",
    "        else:\n",
    "            while j >= 0 and arr[j] < key:\n",
    "                arr[j + 1] = arr[j]\n",
    "                j -= 1\n",
    "        arr[j + 1] = key"
   ]
  },
  {
   "cell_type": "code",
   "execution_count": 3,
   "id": "37e7afea",
   "metadata": {},
   "outputs": [],
   "source": [
    "def selection_sort(arr, asc=True):\n",
    "    length = len(arr)\n",
    "    for i in range(length):\n",
    "        idx = i\n",
    "        for j in range(i + 1, length):\n",
    "            if asc:\n",
    "                if arr[j] < arr[idx]:\n",
    "                    idx = j\n",
    "            else:\n",
    "                if arr[j] > arr[idx]:\n",
    "                    idx = j\n",
    "        arr[i], arr[idx] = arr[idx], arr[i]"
   ]
  },
  {
   "cell_type": "code",
   "execution_count": 4,
   "id": "4dbe0e6e",
   "metadata": {},
   "outputs": [
    {
     "name": "stdout",
     "output_type": "stream",
     "text": [
      "[1, 2, 3, 4, 5]\n"
     ]
    }
   ],
   "source": [
    "test_list = [5, 3, 4, 2, 1]\n",
    "improved_bubble_sort(test_list)\n",
    "print(test_list)"
   ]
  },
  {
   "cell_type": "code",
   "execution_count": 5,
   "id": "59055d16",
   "metadata": {},
   "outputs": [
    {
     "name": "stdout",
     "output_type": "stream",
     "text": [
      "[1, 2, 3, 4, 5]\n"
     ]
    }
   ],
   "source": [
    "test_list = [5, 3, 4, 2, 1]\n",
    "insertion_sort(test_list)\n",
    "print(test_list)"
   ]
  },
  {
   "cell_type": "code",
   "execution_count": 6,
   "id": "ec74f026",
   "metadata": {},
   "outputs": [
    {
     "name": "stdout",
     "output_type": "stream",
     "text": [
      "[5, 4, 3, 2, 1]\n"
     ]
    }
   ],
   "source": [
    "test_list = [5, 3, 4, 2, 1]\n",
    "selection_sort(test_list, False)\n",
    "print(test_list)"
   ]
  }
 ],
 "metadata": {
  "kernelspec": {
   "display_name": "Python 3 (ipykernel)",
   "language": "python",
   "name": "python3"
  }
 },
 "nbformat": 4,
 "nbformat_minor": 5
}
